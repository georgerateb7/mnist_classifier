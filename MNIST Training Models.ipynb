{
 "cells": [
  {
   "cell_type": "code",
   "execution_count": null,
   "metadata": {
    "id": "jbTmJz-W4PPF"
   },
   "outputs": [],
   "source": [
    "import torch\n",
    "import torch.nn as nn\n",
    "import torch.nn.functional as F\n",
    "import torchvision\n",
    "import torch.optim as optim\n",
    "import matplotlib.pyplot as plt\n",
    "import numpy as np\n",
    "from torch.utils.data.dataset import random_split\n",
    "from torchvision import datasets\n",
    "from sklearn.metrics import confusion_matrix\n",
    "from sklearn.linear_model import LogisticRegression\n",
    "from sklearn.model_selection import train_test_split\n",
    "from sklearn.cluster import KMeans"
   ]
  },
  {
   "cell_type": "code",
   "execution_count": null,
   "metadata": {
    "id": "B_1ZP5-E4PPH"
   },
   "outputs": [],
   "source": [
    "class Net(nn.Module):\n",
    "    def __init__(self):\n",
    "        super(Net, self).__init__()\n",
    "        self.conv1 = nn.Conv2d(1, 32, 3, 1)\n",
    "        self.conv2 = nn.Conv2d(32, 64, 3, 1)\n",
    "        self.fc1 = nn.Linear(9216, 128)\n",
    "        self.fc2 = nn.Linear(128, 10)\n",
    "        self.softmax = nn.LogSoftmax(dim = 1)\n",
    "\n",
    "    def forward(self, x):\n",
    "\n",
    "        x = self.conv1(x)\n",
    "        x = F.relu(x)\n",
    "        x = self.conv2(x)\n",
    "        x = F.relu(x)\n",
    "        x = F.max_pool2d(x, 2)\n",
    "        x = torch.flatten(x, 1)\n",
    "        x = self.fc1(x)\n",
    "        x = F.relu(x)\n",
    "        x = self.fc2(x)\n",
    "        output = self.softmax(x)\n",
    "        return output"
   ]
  },
  {
   "cell_type": "code",
   "execution_count": null,
   "metadata": {
    "colab": {
     "base_uri": "https://localhost:8080/"
    },
    "id": "EbJFb-Pt4PPH",
    "outputId": "d6f7cb95-9af8-45cb-999f-35fccccba953"
   },
   "outputs": [
    {
     "name": "stdout",
     "output_type": "stream",
     "text": [
      "Train on CPU...\n"
     ]
    }
   ],
   "source": [
    "device = 'cuda' if torch.cuda.is_available() else 'cpu'\n",
    "net = Net()\n",
    "net = net.to(device)\n",
    "optimizer = optim.SGD(net.parameters(), lr=.01,\n",
    "                      momentum=0.5)\n",
    "if device =='cuda':\n",
    "    print(\"Train on GPU...\")\n",
    "else:\n",
    "    print(\"Train on CPU...\")"
   ]
  },
  {
   "cell_type": "code",
   "execution_count": null,
   "metadata": {
    "colab": {
     "base_uri": "https://localhost:8080/"
    },
    "id": "OE0AUlTx4PPI",
    "outputId": "e208b02b-fd63-474f-f2d5-492018018046"
   },
   "outputs": [
    {
     "data": {
      "text/plain": [
       "<torch._C.Generator at 0x7f4244eafa90>"
      ]
     },
     "execution_count": 4,
     "metadata": {},
     "output_type": "execute_result"
    }
   ],
   "source": [
    "max_epochs = 30\n",
    "batch_size_train = 64\n",
    "batch_size_test = 1\n",
    "\n",
    "\n",
    "random_seed = 671\n",
    "torch.manual_seed(random_seed)"
   ]
  },
  {
   "cell_type": "code",
   "execution_count": null,
   "metadata": {
    "colab": {
     "base_uri": "https://localhost:8080/",
     "height": 423,
     "referenced_widgets": [
      "fe988e0cb73644ac882aa8c297dab5a7",
      "3517c62afbfe4174b0aeb12de2c6b5ab",
      "01746fffb7ea4d2b820328d367fa3689",
      "9ee75dc2a9dd4997b79803d7dbb9225d",
      "7e1f723c045148ebb5f233a8c4549aea",
      "c75d015eb50a4bcdb649aa6a2c104677",
      "a2349f356bb34355aa79116c60be0995",
      "71edf64cb95c40f9a7975372e1cf9791",
      "b37a02848b4d46d3ab46a0eef34706e3",
      "5d8a6ad963764198972fd7898865e2c2",
      "1528665dc43d422db39b0e0ef29f1141",
      "438dc2c347344081974f649a4c62e4ad",
      "9c89eb390b4344d9ad4857414df2ffda",
      "6a817452d72e40bca0edaa3129d2f131",
      "11033662a01047838612b3ca61852ad3",
      "869319f1a2454b8991beb0a545930a9a",
      "6af4a7f86fb84441b591ba2274ac9d2c",
      "e85e648ca6d74edca13881ad0b5e7837",
      "b153412bfd4a48c28a5e50cf7fac9647",
      "022835d66d9d47229fd9897daf125283",
      "845c2706c01642ea9e9a4feeebb0c6f4",
      "25e95dba97c84d3ea9941b8a276e4358",
      "c38b5e7f053f41198091b07bd8786eac",
      "60efb7babc664eb88487b236aa588a28",
      "e22d58ae29734418a0dd6a3432402624",
      "19b007c6bea3403697e05bbe1b3c22ff",
      "ea8c030ebb1149348894dca961037a4d",
      "ee7a0682662045b98db138bdbede1ec3",
      "836a22c7efee46b0a81f8ed88ec6b778",
      "12adffa979e94be8afcbfd3fc552e40f",
      "56fb15a5c74242a3b2f400bd6853a1b0",
      "a08213328efa4b9b8948e1ed747dacd6",
      "2855949b14f847e3a124ff86994320ba",
      "fe1fde19bbdc43c6a81779c184d26a6f",
      "c30652d4f0404abfbbedf977758a2238",
      "a9ac76225b8d4f509a7162603a69ed3c",
      "ad74aae1877544628416b402bf9b0857",
      "d135fbc4897a4ceb92c67d133df0d74f",
      "50cc3c04cd0443b2acca7f20c4fa5783",
      "91a43e86cbdb4de2a29feb7582239e93",
      "82612a67e5d94a338d6970cb2b9d2f99",
      "0838b2cd5e5849ef8a3dda16700bb09f",
      "fdd81fe53fce45e19fb14619db81066b",
      "fcd3e89fef93452294183cae4ebd9f29"
     ]
    },
    "id": "KtsvX2Ks4PPI",
    "outputId": "63dcf63b-f160-4a44-be33-9ae5a1f07f95"
   },
   "outputs": [
    {
     "name": "stdout",
     "output_type": "stream",
     "text": [
      "Downloading http://yann.lecun.com/exdb/mnist/train-images-idx3-ubyte.gz\n",
      "Downloading http://yann.lecun.com/exdb/mnist/train-images-idx3-ubyte.gz to mnist_data/MNIST/raw/train-images-idx3-ubyte.gz\n"
     ]
    },
    {
     "data": {
      "application/vnd.jupyter.widget-view+json": {
       "model_id": "fe988e0cb73644ac882aa8c297dab5a7",
       "version_major": 2,
       "version_minor": 0
      },
      "text/plain": [
       "  0%|          | 0/9912422 [00:00<?, ?it/s]"
      ]
     },
     "metadata": {},
     "output_type": "display_data"
    },
    {
     "name": "stdout",
     "output_type": "stream",
     "text": [
      "Extracting mnist_data/MNIST/raw/train-images-idx3-ubyte.gz to mnist_data/MNIST/raw\n",
      "\n",
      "Downloading http://yann.lecun.com/exdb/mnist/train-labels-idx1-ubyte.gz\n",
      "Downloading http://yann.lecun.com/exdb/mnist/train-labels-idx1-ubyte.gz to mnist_data/MNIST/raw/train-labels-idx1-ubyte.gz\n"
     ]
    },
    {
     "data": {
      "application/vnd.jupyter.widget-view+json": {
       "model_id": "438dc2c347344081974f649a4c62e4ad",
       "version_major": 2,
       "version_minor": 0
      },
      "text/plain": [
       "  0%|          | 0/28881 [00:00<?, ?it/s]"
      ]
     },
     "metadata": {},
     "output_type": "display_data"
    },
    {
     "name": "stdout",
     "output_type": "stream",
     "text": [
      "Extracting mnist_data/MNIST/raw/train-labels-idx1-ubyte.gz to mnist_data/MNIST/raw\n",
      "\n",
      "Downloading http://yann.lecun.com/exdb/mnist/t10k-images-idx3-ubyte.gz\n",
      "Downloading http://yann.lecun.com/exdb/mnist/t10k-images-idx3-ubyte.gz to mnist_data/MNIST/raw/t10k-images-idx3-ubyte.gz\n"
     ]
    },
    {
     "data": {
      "application/vnd.jupyter.widget-view+json": {
       "model_id": "c38b5e7f053f41198091b07bd8786eac",
       "version_major": 2,
       "version_minor": 0
      },
      "text/plain": [
       "  0%|          | 0/1648877 [00:00<?, ?it/s]"
      ]
     },
     "metadata": {},
     "output_type": "display_data"
    },
    {
     "name": "stdout",
     "output_type": "stream",
     "text": [
      "Extracting mnist_data/MNIST/raw/t10k-images-idx3-ubyte.gz to mnist_data/MNIST/raw\n",
      "\n",
      "Downloading http://yann.lecun.com/exdb/mnist/t10k-labels-idx1-ubyte.gz\n",
      "Downloading http://yann.lecun.com/exdb/mnist/t10k-labels-idx1-ubyte.gz to mnist_data/MNIST/raw/t10k-labels-idx1-ubyte.gz\n"
     ]
    },
    {
     "data": {
      "application/vnd.jupyter.widget-view+json": {
       "model_id": "fe1fde19bbdc43c6a81779c184d26a6f",
       "version_major": 2,
       "version_minor": 0
      },
      "text/plain": [
       "  0%|          | 0/4542 [00:00<?, ?it/s]"
      ]
     },
     "metadata": {},
     "output_type": "display_data"
    },
    {
     "name": "stdout",
     "output_type": "stream",
     "text": [
      "Extracting mnist_data/MNIST/raw/t10k-labels-idx1-ubyte.gz to mnist_data/MNIST/raw\n",
      "\n"
     ]
    }
   ],
   "source": [
    "train_set = datasets.MNIST('mnist_data', train=True, download=True,\n",
    "         transform=torchvision.transforms.ToTensor())\n",
    "\n",
    "test_set =  datasets.MNIST('mnist_data', train=False, download=True,\n",
    "         transform=torchvision.transforms.ToTensor())\n",
    "\n",
    "all_MNIST = train_set + test_set\n",
    "\n",
    "train_amt = 35000\n",
    "test_amt = 35000\n",
    "train_set, test_set = random_split(all_MNIST,[train_amt, test_amt])\n",
    "\n",
    "\n",
    "train_loader = torch.utils.data.DataLoader(\n",
    "    train_set, batch_size=batch_size_train, shuffle=True)\n",
    "train_loader_test = torch.utils.data.DataLoader(\n",
    "    train_set, batch_size=batch_size_test, shuffle=True)\n",
    "test_loader = torch.utils.data.DataLoader(\n",
    "    test_set, batch_size=batch_size_test, shuffle=True)"
   ]
  },
  {
   "cell_type": "code",
   "execution_count": null,
   "metadata": {
    "id": "WY1tokyc4PPJ"
   },
   "outputs": [],
   "source": [
    "\n",
    "def train(net):\n",
    "    losses = []\n",
    "\n",
    "    net.train()\n",
    "\n",
    "    for epoch in range(max_epochs):\n",
    "        print(epoch)\n",
    "        epoch_loss = 0\n",
    "        for batch_idx, (data, target) in enumerate(train_loader):\n",
    "\n",
    "            optimizer.zero_grad()\n",
    "            out = net.forward(data)\n",
    "\n",
    "            loss = nn.NLLLoss()\n",
    "            myloss = loss(out,target)\n",
    "\n",
    "            myloss.backward()\n",
    "\n",
    "            optimizer.step()\n",
    "\n",
    "            epoch_loss = epoch_loss + myloss.item()\n",
    "\n",
    "        losses = losses + [epoch_loss/len(train_loader)]\n",
    "\n",
    "\n",
    "    return losses\n"
   ]
  },
  {
   "cell_type": "code",
   "execution_count": null,
   "metadata": {
    "id": "TIk7aoJW4PPJ",
    "outputId": "07fa552e-c4f5-4a9d-e738-402fd8eb908d"
   },
   "outputs": [
    {
     "name": "stdout",
     "output_type": "stream",
     "text": [
      "0\n",
      "1\n",
      "2\n",
      "3\n",
      "4\n",
      "5\n",
      "6\n",
      "7\n",
      "8\n",
      "9\n",
      "10\n",
      "11\n",
      "12\n",
      "13\n",
      "14\n",
      "15\n",
      "16\n",
      "17\n",
      "18\n",
      "19\n",
      "20\n",
      "21\n",
      "22\n",
      "23\n",
      "24\n",
      "25\n",
      "26\n",
      "27\n",
      "28\n",
      "29\n"
     ]
    }
   ],
   "source": [
    "losses = train(net)"
   ]
  },
  {
   "cell_type": "code",
   "execution_count": null,
   "metadata": {
    "id": "OIKHPZaB4PPK",
    "outputId": "efb480c7-60a7-4a3d-e2d7-a2d33f0addb8"
   },
   "outputs": [
    {
     "data": {
      "text/plain": [
       "Text(0.5, 1.0, 'Losses over Epochs')"
      ]
     },
     "execution_count": 9,
     "metadata": {},
     "output_type": "execute_result"
    },
    {
     "data": {
      "image/png": "[encoded data removed]",
      "text/plain": [
       "<Figure size 432x288 with 1 Axes>"
      ]
     },
     "metadata": {
      "needs_background": "light"
     },
     "output_type": "display_data"
    }
   ],
   "source": [
    "plt.plot(losses)\n",
    "plt.xlabel(\"epoch\")\n",
    "plt.ylabel(\"loss\")\n",
    "plt.title(\"Losses over Epochs\")"
   ]
  },
  {
   "cell_type": "markdown",
   "metadata": {
    "id": "RKNkb5Mf4PPK"
   },
   "source": [
    "I think it begins to really converge with less than 5% loss around after the 15th epoch"
   ]
  },
  {
   "cell_type": "code",
   "execution_count": null,
   "metadata": {
    "id": "9YvW120V4PPL"
   },
   "outputs": [],
   "source": [
    "\n",
    "def get_confusion_matrix(net, data_loader):\n",
    "    predictions = []\n",
    "    targets = []\n",
    "\n",
    "    net.eval()\n",
    "\n",
    "    with torch.no_grad():\n",
    "        for batch_idx, (data, target) in enumerate(data_loader):\n",
    "            out = net(data)\n",
    "            _, predicted = out.max(1)\n",
    "\n",
    "            predictions = predictions +  predicted.numpy().tolist()\n",
    "            targets = targets + target.numpy().tolist()\n",
    "\n",
    "            if batch_idx % 5000 == 0:\n",
    "                print('Finished Image #', batch_idx)\n",
    "\n",
    "\n",
    "    return confusion_matrix(targets, predictions), np.array(predictions), np.array(targets)"
   ]
  },
  {
   "cell_type": "code",
   "execution_count": null,
   "metadata": {
    "id": "8uzOZD-F4PPL",
    "outputId": "ae5b4de9-8224-4233-87bb-b1a9529c0ed2"
   },
   "outputs": [
    {
     "name": "stdout",
     "output_type": "stream",
     "text": [
      "Finished Image # 0\n",
      "Finished Image # 0\n",
      "Finished Image # 5000\n",
      "Finished Image # 10000\n",
      "Finished Image # 15000\n",
      "Finished Image # 20000\n",
      "Finished Image # 25000\n",
      "Finished Image # 30000\n",
      "Training Confusion Matrix\n",
      "[[3414    0    0    0    0    0    0    0    0    0]\n",
      " [   0 3907    0    0    0    0    0    2    0    0]\n",
      " [   1    8 3465    5    2    0    0    8    1    0]\n",
      " [   0    0    0 3554    0    0    0    2    5    0]\n",
      " [   0    1    0    0 3394    0    0    2    0    0]\n",
      " [   1    2    0   52    0 3085    3    0   17    3]\n",
      " [   2    4    0    0    0    0 3484    0    0    0]\n",
      " [   0    1    0    0    0    0    0 3650    1    2]\n",
      " [   2    8    0    3    0    0    1    1 3423    0]\n",
      " [   4    4    0    5    6    0    0    7   11 3447]]\n",
      "Testing Confusion Matrix\n",
      "[[3451    5    4    2    0    3    3    2   14    5]\n",
      " [   0 3949    7    3    0    0    2    3    3    1]\n",
      " [   9   12 3408   13    3    1    2   30   21    1]\n",
      " [   2    8   15 3497    0   11    1   14   24    8]\n",
      " [   4   11    3    1 3360    0    7    9    8   24]\n",
      " [   5    2    2   62    2 2998   18    3   38   20]\n",
      " [  24    6    1    1    8    4 3335    0    7    0]\n",
      " [   1   11   15   12    4    1    2 3573    4   16]\n",
      " [   5   23    7   17    2    8    7    5 3305    8]\n",
      " [   3   11    1   23   23    8    2   27   30 3346]]\n"
     ]
    }
   ],
   "source": [
    "tr_conf, tr_pred, tr_targ = get_confusion_matrix(net, train_loader)\n",
    "test_conf, test_pred, test_targ = get_confusion_matrix(net,test_loader)\n",
    "\n",
    "print(\"Training Confusion Matrix\")\n",
    "print(tr_conf)\n",
    "print(\"Testing Confusion Matrix\")\n",
    "print(test_conf)"
   ]
  },
  {
   "cell_type": "code",
   "execution_count": null,
   "metadata": {
    "id": "Bpd3HWRT4PPL",
    "outputId": "1c811831-7207-4aa5-df20-b77efe218abb"
   },
   "outputs": [
    {
     "name": "stdout",
     "output_type": "stream",
     "text": [
      "Training Accuracy: 0.9949428571428571\n",
      "\n",
      "Testing Accuracy: 0.9777714285714286\n"
     ]
    }
   ],
   "source": [
    "tr_acc = np.trace(tr_conf)/35000\n",
    "test_acc = np.trace(test_conf)/35000\n",
    "print(\"Training Accuracy: \"+str(tr_acc))\n",
    "print(\"\\nTesting Accuracy: \"+str(test_acc))"
   ]
  },
  {
   "cell_type": "markdown",
   "metadata": {
    "id": "epCFrQhu4PPL"
   },
   "source": [
    "My intuition is that since the testing accuracy is not substantially different from the training accuracy, the model isn't really overfitting yet."
   ]
  },
  {
   "cell_type": "markdown",
   "metadata": {
    "id": "SoaIVnRN4PPM"
   },
   "source": [
    "By my observation, it looks like the model thinks a lot of things are 8s that aren't actually 8s, and also similarly we experience the same where the model seems to mispredict things as 9s a lot of times they're not actually 9s (especially 7s). This makes sense as these numbers look to be similar and less uniquely shaped than other numbers. On the other hand, the model frequently misclassifies its 7s and 9s, which fits into the story we have of what it thinks numbers are from above."
   ]
  },
  {
   "cell_type": "code",
   "execution_count": null,
   "metadata": {},
   "outputs": [],
   "source": [
    "\n",
    "trainset_list = list(zip(*train_set))\n",
    "X_train = np.array([trainset_list[0][index].numpy().flatten() for index in range(train_amt)])\n",
    "\n",
    "Y_train = np.array([trainset_list[1][index] for index in range(train_amt)])\n",
    "\n",
    "testset_list = list(zip(*test_set))\n",
    "X_test = np.array([testset_list[0][index].numpy().flatten() for index in range(test_amt)])\n",
    "\n",
    "Y_test = np.array([testset_list[1][index] for index in range(test_amt)])"
   ]
  },
  {
   "cell_type": "code",
   "execution_count": null,
   "metadata": {
    "id": "-yy4cDub4PPM",
    "outputId": "5e8174a9-70f2-4d13-fc94-d0eada7d6dad"
   },
   "outputs": [
    {
     "name": "stderr",
     "output_type": "stream",
     "text": [
      "/opt/homebrew/anaconda3/lib/python3.9/site-packages/sklearn/linear_model/_sag.py:328: ConvergenceWarning: The max_iter was reached which means the coef_ did not converge\n",
      "  warnings.warn(\"The max_iter was reached which means \"\n"
     ]
    },
    {
     "data": {
      "text/plain": [
       "LogisticRegression(solver='saga')"
      ]
     },
     "execution_count": 16,
     "metadata": {},
     "output_type": "execute_result"
    }
   ],
   "source": [
    "model = LogisticRegression(solver = \"saga\")\n",
    "model.fit(X_train, Y_train)"
   ]
  },
  {
   "cell_type": "code",
   "execution_count": null,
   "metadata": {
    "id": "W-IV_82d4PPM",
    "outputId": "bceef511-e004-4ba1-84ba-7525a1ff2153"
   },
   "outputs": [
    {
     "name": "stdout",
     "output_type": "stream",
     "text": [
      "Training Confusion Matrix\n",
      "[[3348    0    8    3    7   18   15    1   12    2]\n",
      " [   1 3823   16   13    3   12    1    6   28    6]\n",
      " [  10   25 3221   41   34   16   30   28   74   11]\n",
      " [   5   12   72 3268    3   99    4   23   47   28]\n",
      " [   6    8   12    5 3233    4   22    4   18   85]\n",
      " [  18   12   20   86   30 2862   42    9   70   14]\n",
      " [  11    8   15    2   20   39 3384    2    9    0]\n",
      " [   2   10   32   13   18    5    2 3473    7   92]\n",
      " [   9   47   29   66    7   75   24    9 3138   34]\n",
      " [  16   18   11   34   64   12    0   81   20 3228]]\n",
      "Training Accuracy: 0.9422285714285714\n",
      "\n",
      "Testing Confusion Matrix\n",
      "[[3354    1   12   11    7   26   33   10   27    8]\n",
      " [   0 3867   17    7    1   18    5    6   40    7]\n",
      " [  23   36 3142   47   47   15   53   47   77   13]\n",
      " [  17   24   84 3181    3  116   14   28   74   39]\n",
      " [   3   22   23    7 3189    4   29   13   29  108]\n",
      " [  33   20   29   94   29 2763   48   12   85   37]\n",
      " [  23    7   40    0   25   55 3213    7   15    1]\n",
      " [   8   15   43   23   35    5    2 3372   16  120]\n",
      " [  29   71   48   87   15   89   39   12 2949   48]\n",
      " [  11   12   10   53   84   24    2   90   27 3161]]\n",
      "Testing Accuracy 0.9197428571428572\n"
     ]
    }
   ],
   "source": [
    "tr_pred = model.predict(X_train)\n",
    "test_pred = model.predict(X_test)\n",
    "print(\"Training Confusion Matrix\")\n",
    "tr_conf = confusion_matrix(Y_train, tr_pred)\n",
    "print(tr_conf)\n",
    "print(\"Training Accuracy: \"+ str(np.trace(tr_conf)/35000))\n",
    "print(\"\\nTesting Confusion Matrix\")\n",
    "test_conf = confusion_matrix(Y_test,test_pred)\n",
    "print(test_conf)\n",
    "print(\"Testing Accuracy \"+str(np.trace(test_conf)/35000))"
   ]
  },
  {
   "cell_type": "markdown",
   "metadata": {
    "id": "0xlAw2ec4PPM"
   },
   "source": [
    "The logistic regression does not seem to be significantly more overfitting than the neural network, as the training and test accuracy are both fairly similar, albeit some degree of overfitting might be starting to happen. It does seem to be getting confused on the same images. It misclassifies many things as 9s, 8s, and 5s, and tends to misclassify proportionally a lot more 4s than the neural network, 7s, 8s, and 9s."
   ]
  },
  {
   "cell_type": "code",
   "execution_count": null,
   "metadata": {
    "id": "B6pmKvmm4PPM"
   },
   "outputs": [],
   "source": [
    "mod = KMeans(n_clusters=10,init=\"random\", n_init=5,random_state=24)\n",
    "mod.fit(X_test)\n",
    "\n",
    "predictions = mod.predict(X_test)"
   ]
  },
  {
   "cell_type": "code",
   "execution_count": null,
   "metadata": {
    "id": "yZGoazFI6JDe"
   },
   "outputs": [],
   "source": [
    "cluster_count = np.zeros((10,10))\n",
    "label = np.zeros(10)\n",
    "for i in range(len(predictions)):\n",
    "  cluster_count[predictions[i]][Y_test[i]]+=1"
   ]
  },
  {
   "cell_type": "code",
   "execution_count": null,
   "metadata": {
    "id": "4JZkt6528cry"
   },
   "outputs": [],
   "source": [
    "for i in range(10):\n",
    "  label[i] = np.argmax(cluster_count[i])"
   ]
  },
  {
   "cell_type": "code",
   "execution_count": null,
   "metadata": {
    "id": "BPiOKBcz-eOa"
   },
   "outputs": [],
   "source": [
    "pred_label = [label[i] for i in predictions]"
   ]
  },
  {
   "cell_type": "code",
   "execution_count": null,
   "metadata": {
    "id": "BgpdWPK64PPM"
   },
   "outputs": [],
   "source": [
   ]
  },
  {
   "cell_type": "code",
   "execution_count": null,
   "metadata": {
    "colab": {
     "base_uri": "https://localhost:8080/"
    },
    "id": "4piLQDX7_h6Z",
    "outputId": "bd24972a-dd40-47cc-a783-9ae5a98de71e"
   },
   "outputs": [
    {
     "name": "stdout",
     "output_type": "stream",
     "text": [
      "K Means Confusion Matrix\n",
      "[[3068   14   16  113   34    0  118   14  103    9]\n",
      " [   0 3899   19    8    4    0    8    1   18   11]\n",
      " [  75  411 2464  196  108    0   96   38   82   30]\n",
      " [  62  242  148 2365   42    0   32   29  585   75]\n",
      " [   3  133   13    0 1293    0   76  973    8  928]\n",
      " [ 144  488   10 1039  117    0   70  247  884  151]\n",
      " [ 125  247   50   17  246    0 2651    0   49    1]\n",
      " [  12  233   25    1  339    0    4 1583    4 1438]\n",
      " [  44  339   35  609   69    0   37  147 2004  103]\n",
      " [  24   95    4   46  838    0    5  959   27 1476]]\n",
      "K Means Accuracy: 0.5943714285714286\n"
     ]
    }
   ],
   "source": [
    "km_conf = confusion_matrix(Y_test,pred_label)\n",
    "print(\"K Means Confusion Matrix\")\n",
    "print(km_conf)\n",
    "print(\"K Means Accuracy: \" + str(np.trace(km_conf)/35000))"
   ]
  },
  {
   "cell_type": "markdown",
   "metadata": {
    "id": "aijpCi9G4PPN"
   },
   "source": [
   ]
  },
  {
   "cell_type": "markdown",
   "metadata": {
    "id": "Q5gSvigL_7Ht"
   },
   "source": [
    "K Means does significantly worse than the other methods (logistic regression and neural network). It boasts around 60% accuracy on its respective training data, which is a drop off of more than 30 percentage points for the other methods. It does a lot of misclassification, and a large part of that was that it seems (based on the confusion matrix) to have created 2 clusters that in reality actually end up labeling the same number, so one number (in this case 5) is never classified."
   ]
  }
 ],
 "metadata": {
  "colab": {
   "provenance": []
  },
  "kernelspec": {
   "display_name": "Python 3 (ipykernel)",
   "language": "python",
   "name": "python3"
  },
  "language_info": {
   "codemirror_mode": {
    "name": "ipython",
    "version": 3
   },
   "file_extension": ".py",
   "mimetype": "text/x-python",
   "name": "python",
   "nbconvert_exporter": "python",
   "pygments_lexer": "ipython3",
   "version": "3.9.7"
  },
  "widgets": {
   "application/vnd.jupyter.widget-state+json": {
    "01746fffb7ea4d2b820328d367fa3689": {
     "model_module": "@jupyter-widgets/controls",
     "model_module_version": "1.5.0",
     "model_name": "HTMLModel",
     "state": {
      "_dom_classes": [],
      "_model_module": "@jupyter-widgets/controls",
      "_model_module_version": "1.5.0",
      "_model_name": "HTMLModel",
      "_view_count": null,
      "_view_module": "@jupyter-widgets/controls",
      "_view_module_version": "1.5.0",
      "_view_name": "HTMLView",
      "description": "",
      "description_tooltip": null,
      "layout": "IPY_MODEL_a2349f356bb34355aa79116c60be0995",
      "placeholder": "​",
      "style": "IPY_MODEL_c75d015eb50a4bcdb649aa6a2c104677",
      "value": ""
     }
    },
    "022835d66d9d47229fd9897daf125283": {
     "model_module": "@jupyter-widgets/base",
     "model_module_version": "1.2.0",
     "model_name": "LayoutModel",
     "state": {
      "_model_module": "@jupyter-widgets/base",
      "_model_module_version": "1.2.0",
      "_model_name": "LayoutModel",
      "_view_count": null,
      "_view_module": "@jupyter-widgets/base",
      "_view_module_version": "1.2.0",
      "_view_name": "LayoutView",
      "align_content": null,
      "align_items": null,
      "align_self": null,
      "border": null,
      "bottom": null,
      "display": null,
      "flex": null,
      "flex_flow": null,
      "grid_area": null,
      "grid_auto_columns": null,
      "grid_auto_flow": null,
      "grid_auto_rows": null,
      "grid_column": null,
      "grid_gap": null,
      "grid_row": null,
      "grid_template_areas": null,
      "grid_template_columns": null,
      "grid_template_rows": null,
      "height": null,
      "justify_content": null,
      "justify_items": null,
      "left": null,
      "margin": null,
      "max_height": null,
      "max_width": null,
      "min_height": null,
      "min_width": null,
      "object_fit": null,
      "object_position": null,
      "order": null,
      "overflow": null,
      "overflow_x": null,
      "overflow_y": null,
      "padding": null,
      "right": null,
      "top": null,
      "visibility": null,
      "width": null
     }
    },
    "0838b2cd5e5849ef8a3dda16700bb09f": {
     "model_module": "@jupyter-widgets/base",
     "model_module_version": "1.2.0",
     "model_name": "LayoutModel",
     "state": {
      "_model_module": "@jupyter-widgets/base",
      "_model_module_version": "1.2.0",
      "_model_name": "LayoutModel",
      "_view_count": null,
      "_view_module": "@jupyter-widgets/base",
      "_view_module_version": "1.2.0",
      "_view_name": "LayoutView",
      "align_content": null,
      "align_items": null,
      "align_self": null,
      "border": null,
      "bottom": null,
      "display": null,
      "flex": null,
      "flex_flow": null,
      "grid_area": null,
      "grid_auto_columns": null,
      "grid_auto_flow": null,
      "grid_auto_rows": null,
      "grid_column": null,
      "grid_gap": null,
      "grid_row": null,
      "grid_template_areas": null,
      "grid_template_columns": null,
      "grid_template_rows": null,
      "height": null,
      "justify_content": null,
      "justify_items": null,
      "left": null,
      "margin": null,
      "max_height": null,
      "max_width": null,
      "min_height": null,
      "min_width": null,
      "object_fit": null,
      "object_position": null,
      "order": null,
      "overflow": null,
      "overflow_x": null,
      "overflow_y": null,
      "padding": null,
      "right": null,
      "top": null,
      "visibility": null,
      "width": null
     }
    },
    "11033662a01047838612b3ca61852ad3": {
     "model_module": "@jupyter-widgets/controls",
     "model_module_version": "1.5.0",
     "model_name": "FloatProgressModel",
     "state": {
      "_dom_classes": [],
      "_model_module": "@jupyter-widgets/controls",
      "_model_module_version": "1.5.0",
      "_model_name": "FloatProgressModel",
      "_view_count": null,
      "_view_module": "@jupyter-widgets/controls",
      "_view_module_version": "1.5.0",
      "_view_name": "ProgressView",
      "bar_style": "success",
      "description": "",
      "description_tooltip": null,
      "layout": "IPY_MODEL_022835d66d9d47229fd9897daf125283",
      "max": 28881,
      "min": 0,
      "orientation": "horizontal",
      "style": "IPY_MODEL_b153412bfd4a48c28a5e50cf7fac9647",
      "value": 28881
     }
    },
    "12adffa979e94be8afcbfd3fc552e40f": {
     "model_module": "@jupyter-widgets/controls",
     "model_module_version": "1.5.0",
     "model_name": "ProgressStyleModel",
     "state": {
      "_model_module": "@jupyter-widgets/controls",
      "_model_module_version": "1.5.0",
      "_model_name": "ProgressStyleModel",
      "_view_count": null,
      "_view_module": "@jupyter-widgets/base",
      "_view_module_version": "1.2.0",
      "_view_name": "StyleView",
      "bar_color": null,
      "description_width": ""
     }
    },
    "1528665dc43d422db39b0e0ef29f1141": {
     "model_module": "@jupyter-widgets/base",
     "model_module_version": "1.2.0",
     "model_name": "LayoutModel",
     "state": {
      "_model_module": "@jupyter-widgets/base",
      "_model_module_version": "1.2.0",
      "_model_name": "LayoutModel",
      "_view_count": null,
      "_view_module": "@jupyter-widgets/base",
      "_view_module_version": "1.2.0",
      "_view_name": "LayoutView",
      "align_content": null,
      "align_items": null,
      "align_self": null,
      "border": null,
      "bottom": null,
      "display": null,
      "flex": null,
      "flex_flow": null,
      "grid_area": null,
      "grid_auto_columns": null,
      "grid_auto_flow": null,
      "grid_auto_rows": null,
      "grid_column": null,
      "grid_gap": null,
      "grid_row": null,
      "grid_template_areas": null,
      "grid_template_columns": null,
      "grid_template_rows": null,
      "height": null,
      "justify_content": null,
      "justify_items": null,
      "left": null,
      "margin": null,
      "max_height": null,
      "max_width": null,
      "min_height": null,
      "min_width": null,
      "object_fit": null,
      "object_position": null,
      "order": null,
      "overflow": null,
      "overflow_x": null,
      "overflow_y": null,
      "padding": null,
      "right": null,
      "top": null,
      "visibility": null,
      "width": null
     }
    },
    "19b007c6bea3403697e05bbe1b3c22ff": {
     "model_module": "@jupyter-widgets/controls",
     "model_module_version": "1.5.0",
     "model_name": "FloatProgressModel",
     "state": {
      "_dom_classes": [],
      "_model_module": "@jupyter-widgets/controls",
      "_model_module_version": "1.5.0",
      "_model_name": "FloatProgressModel",
      "_view_count": null,
      "_view_module": "@jupyter-widgets/controls",
      "_view_module_version": "1.5.0",
      "_view_name": "ProgressView",
      "bar_style": "success",
      "description": "",
      "description_tooltip": null,
      "layout": "IPY_MODEL_56fb15a5c74242a3b2f400bd6853a1b0",
      "max": 1648877,
      "min": 0,
      "orientation": "horizontal",
      "style": "IPY_MODEL_12adffa979e94be8afcbfd3fc552e40f",
      "value": 1648877
     }
    },
    "25e95dba97c84d3ea9941b8a276e4358": {
     "model_module": "@jupyter-widgets/base",
     "model_module_version": "1.2.0",
     "model_name": "LayoutModel",
     "state": {
      "_model_module": "@jupyter-widgets/base",
      "_model_module_version": "1.2.0",
      "_model_name": "LayoutModel",
      "_view_count": null,
      "_view_module": "@jupyter-widgets/base",
      "_view_module_version": "1.2.0",
      "_view_name": "LayoutView",
      "align_content": null,
      "align_items": null,
      "align_self": null,
      "border": null,
      "bottom": null,
      "display": null,
      "flex": null,
      "flex_flow": null,
      "grid_area": null,
      "grid_auto_columns": null,
      "grid_auto_flow": null,
      "grid_auto_rows": null,
      "grid_column": null,
      "grid_gap": null,
      "grid_row": null,
      "grid_template_areas": null,
      "grid_template_columns": null,
      "grid_template_rows": null,
      "height": null,
      "justify_content": null,
      "justify_items": null,
      "left": null,
      "margin": null,
      "max_height": null,
      "max_width": null,
      "min_height": null,
      "min_width": null,
      "object_fit": null,
      "object_position": null,
      "order": null,
      "overflow": null,
      "overflow_x": null,
      "overflow_y": null,
      "padding": null,
      "right": null,
      "top": null,
      "visibility": null,
      "width": null
     }
    },
    "2855949b14f847e3a124ff86994320ba": {
     "model_module": "@jupyter-widgets/base",
     "model_module_version": "1.2.0",
     "model_name": "LayoutModel",
     "state": {
      "_model_module": "@jupyter-widgets/base",
      "_model_module_version": "1.2.0",
      "_model_name": "LayoutModel",
      "_view_count": null,
      "_view_module": "@jupyter-widgets/base",
      "_view_module_version": "1.2.0",
      "_view_name": "LayoutView",
      "align_content": null,
      "align_items": null,
      "align_self": null,
      "border": null,
      "bottom": null,
      "display": null,
      "flex": null,
      "flex_flow": null,
      "grid_area": null,
      "grid_auto_columns": null,
      "grid_auto_flow": null,
      "grid_auto_rows": null,
      "grid_column": null,
      "grid_gap": null,
      "grid_row": null,
      "grid_template_areas": null,
      "grid_template_columns": null,
      "grid_template_rows": null,
      "height": null,
      "justify_content": null,
      "justify_items": null,
      "left": null,
      "margin": null,
      "max_height": null,
      "max_width": null,
      "min_height": null,
      "min_width": null,
      "object_fit": null,
      "object_position": null,
      "order": null,
      "overflow": null,
      "overflow_x": null,
      "overflow_y": null,
      "padding": null,
      "right": null,
      "top": null,
      "visibility": null,
      "width": null
     }
    },
    "3517c62afbfe4174b0aeb12de2c6b5ab": {
     "model_module": "@jupyter-widgets/base",
     "model_module_version": "1.2.0",
     "model_name": "LayoutModel",
     "state": {
      "_model_module": "@jupyter-widgets/base",
      "_model_module_version": "1.2.0",
      "_model_name": "LayoutModel",
      "_view_count": null,
      "_view_module": "@jupyter-widgets/base",
      "_view_module_version": "1.2.0",
      "_view_name": "LayoutView",
      "align_content": null,
      "align_items": null,
      "align_self": null,
      "border": null,
      "bottom": null,
      "display": null,
      "flex": null,
      "flex_flow": null,
      "grid_area": null,
      "grid_auto_columns": null,
      "grid_auto_flow": null,
      "grid_auto_rows": null,
      "grid_column": null,
      "grid_gap": null,
      "grid_row": null,
      "grid_template_areas": null,
      "grid_template_columns": null,
      "grid_template_rows": null,
      "height": null,
      "justify_content": null,
      "justify_items": null,
      "left": null,
      "margin": null,
      "max_height": null,
      "max_width": null,
      "min_height": null,
      "min_width": null,
      "object_fit": null,
      "object_position": null,
      "order": null,
      "overflow": null,
      "overflow_x": null,
      "overflow_y": null,
      "padding": null,
      "right": null,
      "top": null,
      "visibility": null,
      "width": null
     }
    },
    "438dc2c347344081974f649a4c62e4ad": {
     "model_module": "@jupyter-widgets/controls",
     "model_module_version": "1.5.0",
     "model_name": "HBoxModel",
     "state": {
      "_dom_classes": [],
      "_model_module": "@jupyter-widgets/controls",
      "_model_module_version": "1.5.0",
      "_model_name": "HBoxModel",
      "_view_count": null,
      "_view_module": "@jupyter-widgets/controls",
      "_view_module_version": "1.5.0",
      "_view_name": "HBoxView",
      "box_style": "",
      "children": [
       "IPY_MODEL_6a817452d72e40bca0edaa3129d2f131",
       "IPY_MODEL_11033662a01047838612b3ca61852ad3",
       "IPY_MODEL_869319f1a2454b8991beb0a545930a9a"
      ],
      "layout": "IPY_MODEL_9c89eb390b4344d9ad4857414df2ffda"
     }
    },
    "50cc3c04cd0443b2acca7f20c4fa5783": {
     "model_module": "@jupyter-widgets/controls",
     "model_module_version": "1.5.0",
     "model_name": "DescriptionStyleModel",
     "state": {
      "_model_module": "@jupyter-widgets/controls",
      "_model_module_version": "1.5.0",
      "_model_name": "DescriptionStyleModel",
      "_view_count": null,
      "_view_module": "@jupyter-widgets/base",
      "_view_module_version": "1.2.0",
      "_view_name": "StyleView",
      "description_width": ""
     }
    },
    "56fb15a5c74242a3b2f400bd6853a1b0": {
     "model_module": "@jupyter-widgets/base",
     "model_module_version": "1.2.0",
     "model_name": "LayoutModel",
     "state": {
      "_model_module": "@jupyter-widgets/base",
      "_model_module_version": "1.2.0",
      "_model_name": "LayoutModel",
      "_view_count": null,
      "_view_module": "@jupyter-widgets/base",
      "_view_module_version": "1.2.0",
      "_view_name": "LayoutView",
      "align_content": null,
      "align_items": null,
      "align_self": null,
      "border": null,
      "bottom": null,
      "display": null,
      "flex": null,
      "flex_flow": null,
      "grid_area": null,
      "grid_auto_columns": null,
      "grid_auto_flow": null,
      "grid_auto_rows": null,
      "grid_column": null,
      "grid_gap": null,
      "grid_row": null,
      "grid_template_areas": null,
      "grid_template_columns": null,
      "grid_template_rows": null,
      "height": null,
      "justify_content": null,
      "justify_items": null,
      "left": null,
      "margin": null,
      "max_height": null,
      "max_width": null,
      "min_height": null,
      "min_width": null,
      "object_fit": null,
      "object_position": null,
      "order": null,
      "overflow": null,
      "overflow_x": null,
      "overflow_y": null,
      "padding": null,
      "right": null,
      "top": null,
      "visibility": null,
      "width": null
     }
    },
    "5d8a6ad963764198972fd7898865e2c2": {
     "model_module": "@jupyter-widgets/controls",
     "model_module_version": "1.5.0",
     "model_name": "DescriptionStyleModel",
     "state": {
      "_model_module": "@jupyter-widgets/controls",
      "_model_module_version": "1.5.0",
      "_model_name": "DescriptionStyleModel",
      "_view_count": null,
      "_view_module": "@jupyter-widgets/base",
      "_view_module_version": "1.2.0",
      "_view_name": "StyleView",
      "description_width": ""
     }
    },
    "60efb7babc664eb88487b236aa588a28": {
     "model_module": "@jupyter-widgets/base",
     "model_module_version": "1.2.0",
     "model_name": "LayoutModel",
     "state": {
      "_model_module": "@jupyter-widgets/base",
      "_model_module_version": "1.2.0",
      "_model_name": "LayoutModel",
      "_view_count": null,
      "_view_module": "@jupyter-widgets/base",
      "_view_module_version": "1.2.0",
      "_view_name": "LayoutView",
      "align_content": null,
      "align_items": null,
      "align_self": null,
      "border": null,
      "bottom": null,
      "display": null,
      "flex": null,
      "flex_flow": null,
      "grid_area": null,
      "grid_auto_columns": null,
      "grid_auto_flow": null,
      "grid_auto_rows": null,
      "grid_column": null,
      "grid_gap": null,
      "grid_row": null,
      "grid_template_areas": null,
      "grid_template_columns": null,
      "grid_template_rows": null,
      "height": null,
      "justify_content": null,
      "justify_items": null,
      "left": null,
      "margin": null,
      "max_height": null,
      "max_width": null,
      "min_height": null,
      "min_width": null,
      "object_fit": null,
      "object_position": null,
      "order": null,
      "overflow": null,
      "overflow_x": null,
      "overflow_y": null,
      "padding": null,
      "right": null,
      "top": null,
      "visibility": null,
      "width": null
     }
    },
    "6a817452d72e40bca0edaa3129d2f131": {
     "model_module": "@jupyter-widgets/controls",
     "model_module_version": "1.5.0",
     "model_name": "HTMLModel",
     "state": {
      "_dom_classes": [],
      "_model_module": "@jupyter-widgets/controls",
      "_model_module_version": "1.5.0",
      "_model_name": "HTMLModel",
      "_view_count": null,
      "_view_module": "@jupyter-widgets/controls",
      "_view_module_version": "1.5.0",
      "_view_name": "HTMLView",
      "description": "",
      "description_tooltip": null,
      "layout": "IPY_MODEL_e85e648ca6d74edca13881ad0b5e7837",
      "placeholder": "​",
      "style": "IPY_MODEL_6af4a7f86fb84441b591ba2274ac9d2c",
      "value": ""
     }
    },
    "6af4a7f86fb84441b591ba2274ac9d2c": {
     "model_module": "@jupyter-widgets/controls",
     "model_module_version": "1.5.0",
     "model_name": "DescriptionStyleModel",
     "state": {
      "_model_module": "@jupyter-widgets/controls",
      "_model_module_version": "1.5.0",
      "_model_name": "DescriptionStyleModel",
      "_view_count": null,
      "_view_module": "@jupyter-widgets/base",
      "_view_module_version": "1.2.0",
      "_view_name": "StyleView",
      "description_width": ""
     }
    },
    "71edf64cb95c40f9a7975372e1cf9791": {
     "model_module": "@jupyter-widgets/controls",
     "model_module_version": "1.5.0",
     "model_name": "ProgressStyleModel",
     "state": {
      "_model_module": "@jupyter-widgets/controls",
      "_model_module_version": "1.5.0",
      "_model_name": "ProgressStyleModel",
      "_view_count": null,
      "_view_module": "@jupyter-widgets/base",
      "_view_module_version": "1.2.0",
      "_view_name": "StyleView",
      "bar_color": null,
      "description_width": ""
     }
    },
    "7e1f723c045148ebb5f233a8c4549aea": {
     "model_module": "@jupyter-widgets/controls",
     "model_module_version": "1.5.0",
     "model_name": "HTMLModel",
     "state": {
      "_dom_classes": [],
      "_model_module": "@jupyter-widgets/controls",
      "_model_module_version": "1.5.0",
      "_model_name": "HTMLModel",
      "_view_count": null,
      "_view_module": "@jupyter-widgets/controls",
      "_view_module_version": "1.5.0",
      "_view_name": "HTMLView",
      "description": "",
      "description_tooltip": null,
      "layout": "IPY_MODEL_1528665dc43d422db39b0e0ef29f1141",
      "placeholder": "​",
      "style": "IPY_MODEL_5d8a6ad963764198972fd7898865e2c2",
      "value": " 9913344/? [00:00&lt;00:00, 54733170.09it/s]"
     }
    },
    "82612a67e5d94a338d6970cb2b9d2f99": {
     "model_module": "@jupyter-widgets/controls",
     "model_module_version": "1.5.0",
     "model_name": "ProgressStyleModel",
     "state": {
      "_model_module": "@jupyter-widgets/controls",
      "_model_module_version": "1.5.0",
      "_model_name": "ProgressStyleModel",
      "_view_count": null,
      "_view_module": "@jupyter-widgets/base",
      "_view_module_version": "1.2.0",
      "_view_name": "StyleView",
      "bar_color": null,
      "description_width": ""
     }
    },
    "836a22c7efee46b0a81f8ed88ec6b778": {
     "model_module": "@jupyter-widgets/base",
     "model_module_version": "1.2.0",
     "model_name": "LayoutModel",
     "state": {
      "_model_module": "@jupyter-widgets/base",
      "_model_module_version": "1.2.0",
      "_model_name": "LayoutModel",
      "_view_count": null,
      "_view_module": "@jupyter-widgets/base",
      "_view_module_version": "1.2.0",
      "_view_name": "LayoutView",
      "align_content": null,
      "align_items": null,
      "align_self": null,
      "border": null,
      "bottom": null,
      "display": null,
      "flex": null,
      "flex_flow": null,
      "grid_area": null,
      "grid_auto_columns": null,
      "grid_auto_flow": null,
      "grid_auto_rows": null,
      "grid_column": null,
      "grid_gap": null,
      "grid_row": null,
      "grid_template_areas": null,
      "grid_template_columns": null,
      "grid_template_rows": null,
      "height": null,
      "justify_content": null,
      "justify_items": null,
      "left": null,
      "margin": null,
      "max_height": null,
      "max_width": null,
      "min_height": null,
      "min_width": null,
      "object_fit": null,
      "object_position": null,
      "order": null,
      "overflow": null,
      "overflow_x": null,
      "overflow_y": null,
      "padding": null,
      "right": null,
      "top": null,
      "visibility": null,
      "width": null
     }
    },
    "845c2706c01642ea9e9a4feeebb0c6f4": {
     "model_module": "@jupyter-widgets/controls",
     "model_module_version": "1.5.0",
     "model_name": "DescriptionStyleModel",
     "state": {
      "_model_module": "@jupyter-widgets/controls",
      "_model_module_version": "1.5.0",
      "_model_name": "DescriptionStyleModel",
      "_view_count": null,
      "_view_module": "@jupyter-widgets/base",
      "_view_module_version": "1.2.0",
      "_view_name": "StyleView",
      "description_width": ""
     }
    },
    "869319f1a2454b8991beb0a545930a9a": {
     "model_module": "@jupyter-widgets/controls",
     "model_module_version": "1.5.0",
     "model_name": "HTMLModel",
     "state": {
      "_dom_classes": [],
      "_model_module": "@jupyter-widgets/controls",
      "_model_module_version": "1.5.0",
      "_model_name": "HTMLModel",
      "_view_count": null,
      "_view_module": "@jupyter-widgets/controls",
      "_view_module_version": "1.5.0",
      "_view_name": "HTMLView",
      "description": "",
      "description_tooltip": null,
      "layout": "IPY_MODEL_25e95dba97c84d3ea9941b8a276e4358",
      "placeholder": "​",
      "style": "IPY_MODEL_845c2706c01642ea9e9a4feeebb0c6f4",
      "value": " 29696/? [00:00&lt;00:00, 514337.60it/s]"
     }
    },
    "91a43e86cbdb4de2a29feb7582239e93": {
     "model_module": "@jupyter-widgets/base",
     "model_module_version": "1.2.0",
     "model_name": "LayoutModel",
     "state": {
      "_model_module": "@jupyter-widgets/base",
      "_model_module_version": "1.2.0",
      "_model_name": "LayoutModel",
      "_view_count": null,
      "_view_module": "@jupyter-widgets/base",
      "_view_module_version": "1.2.0",
      "_view_name": "LayoutView",
      "align_content": null,
      "align_items": null,
      "align_self": null,
      "border": null,
      "bottom": null,
      "display": null,
      "flex": null,
      "flex_flow": null,
      "grid_area": null,
      "grid_auto_columns": null,
      "grid_auto_flow": null,
      "grid_auto_rows": null,
      "grid_column": null,
      "grid_gap": null,
      "grid_row": null,
      "grid_template_areas": null,
      "grid_template_columns": null,
      "grid_template_rows": null,
      "height": null,
      "justify_content": null,
      "justify_items": null,
      "left": null,
      "margin": null,
      "max_height": null,
      "max_width": null,
      "min_height": null,
      "min_width": null,
      "object_fit": null,
      "object_position": null,
      "order": null,
      "overflow": null,
      "overflow_x": null,
      "overflow_y": null,
      "padding": null,
      "right": null,
      "top": null,
      "visibility": null,
      "width": null
     }
    },
    "9c89eb390b4344d9ad4857414df2ffda": {
     "model_module": "@jupyter-widgets/base",
     "model_module_version": "1.2.0",
     "model_name": "LayoutModel",
     "state": {
      "_model_module": "@jupyter-widgets/base",
      "_model_module_version": "1.2.0",
      "_model_name": "LayoutModel",
      "_view_count": null,
      "_view_module": "@jupyter-widgets/base",
      "_view_module_version": "1.2.0",
      "_view_name": "LayoutView",
      "align_content": null,
      "align_items": null,
      "align_self": null,
      "border": null,
      "bottom": null,
      "display": null,
      "flex": null,
      "flex_flow": null,
      "grid_area": null,
      "grid_auto_columns": null,
      "grid_auto_flow": null,
      "grid_auto_rows": null,
      "grid_column": null,
      "grid_gap": null,
      "grid_row": null,
      "grid_template_areas": null,
      "grid_template_columns": null,
      "grid_template_rows": null,
      "height": null,
      "justify_content": null,
      "justify_items": null,
      "left": null,
      "margin": null,
      "max_height": null,
      "max_width": null,
      "min_height": null,
      "min_width": null,
      "object_fit": null,
      "object_position": null,
      "order": null,
      "overflow": null,
      "overflow_x": null,
      "overflow_y": null,
      "padding": null,
      "right": null,
      "top": null,
      "visibility": null,
      "width": null
     }
    },
    "9ee75dc2a9dd4997b79803d7dbb9225d": {
     "model_module": "@jupyter-widgets/controls",
     "model_module_version": "1.5.0",
     "model_name": "FloatProgressModel",
     "state": {
      "_dom_classes": [],
      "_model_module": "@jupyter-widgets/controls",
      "_model_module_version": "1.5.0",
      "_model_name": "FloatProgressModel",
      "_view_count": null,
      "_view_module": "@jupyter-widgets/controls",
      "_view_module_version": "1.5.0",
      "_view_name": "ProgressView",
      "bar_style": "success",
      "description": "",
      "description_tooltip": null,
      "layout": "IPY_MODEL_b37a02848b4d46d3ab46a0eef34706e3",
      "max": 9912422,
      "min": 0,
      "orientation": "horizontal",
      "style": "IPY_MODEL_71edf64cb95c40f9a7975372e1cf9791",
      "value": 9912422
     }
    },
    "a08213328efa4b9b8948e1ed747dacd6": {
     "model_module": "@jupyter-widgets/controls",
     "model_module_version": "1.5.0",
     "model_name": "DescriptionStyleModel",
     "state": {
      "_model_module": "@jupyter-widgets/controls",
      "_model_module_version": "1.5.0",
      "_model_name": "DescriptionStyleModel",
      "_view_count": null,
      "_view_module": "@jupyter-widgets/base",
      "_view_module_version": "1.2.0",
      "_view_name": "StyleView",
      "description_width": ""
     }
    },
    "a2349f356bb34355aa79116c60be0995": {
     "model_module": "@jupyter-widgets/base",
     "model_module_version": "1.2.0",
     "model_name": "LayoutModel",
     "state": {
      "_model_module": "@jupyter-widgets/base",
      "_model_module_version": "1.2.0",
      "_model_name": "LayoutModel",
      "_view_count": null,
      "_view_module": "@jupyter-widgets/base",
      "_view_module_version": "1.2.0",
      "_view_name": "LayoutView",
      "align_content": null,
      "align_items": null,
      "align_self": null,
      "border": null,
      "bottom": null,
      "display": null,
      "flex": null,
      "flex_flow": null,
      "grid_area": null,
      "grid_auto_columns": null,
      "grid_auto_flow": null,
      "grid_auto_rows": null,
      "grid_column": null,
      "grid_gap": null,
      "grid_row": null,
      "grid_template_areas": null,
      "grid_template_columns": null,
      "grid_template_rows": null,
      "height": null,
      "justify_content": null,
      "justify_items": null,
      "left": null,
      "margin": null,
      "max_height": null,
      "max_width": null,
      "min_height": null,
      "min_width": null,
      "object_fit": null,
      "object_position": null,
      "order": null,
      "overflow": null,
      "overflow_x": null,
      "overflow_y": null,
      "padding": null,
      "right": null,
      "top": null,
      "visibility": null,
      "width": null
     }
    },
    "a9ac76225b8d4f509a7162603a69ed3c": {
     "model_module": "@jupyter-widgets/controls",
     "model_module_version": "1.5.0",
     "model_name": "HTMLModel",
     "state": {
      "_dom_classes": [],
      "_model_module": "@jupyter-widgets/controls",
      "_model_module_version": "1.5.0",
      "_model_name": "HTMLModel",
      "_view_count": null,
      "_view_module": "@jupyter-widgets/controls",
      "_view_module_version": "1.5.0",
      "_view_name": "HTMLView",
      "description": "",
      "description_tooltip": null,
      "layout": "IPY_MODEL_91a43e86cbdb4de2a29feb7582239e93",
      "placeholder": "​",
      "style": "IPY_MODEL_50cc3c04cd0443b2acca7f20c4fa5783",
      "value": ""
     }
    },
    "ad74aae1877544628416b402bf9b0857": {
     "model_module": "@jupyter-widgets/controls",
     "model_module_version": "1.5.0",
     "model_name": "FloatProgressModel",
     "state": {
      "_dom_classes": [],
      "_model_module": "@jupyter-widgets/controls",
      "_model_module_version": "1.5.0",
      "_model_name": "FloatProgressModel",
      "_view_count": null,
      "_view_module": "@jupyter-widgets/controls",
      "_view_module_version": "1.5.0",
      "_view_name": "ProgressView",
      "bar_style": "success",
      "description": "",
      "description_tooltip": null,
      "layout": "IPY_MODEL_0838b2cd5e5849ef8a3dda16700bb09f",
      "max": 4542,
      "min": 0,
      "orientation": "horizontal",
      "style": "IPY_MODEL_82612a67e5d94a338d6970cb2b9d2f99",
      "value": 4542
     }
    },
    "b153412bfd4a48c28a5e50cf7fac9647": {
     "model_module": "@jupyter-widgets/controls",
     "model_module_version": "1.5.0",
     "model_name": "ProgressStyleModel",
     "state": {
      "_model_module": "@jupyter-widgets/controls",
      "_model_module_version": "1.5.0",
      "_model_name": "ProgressStyleModel",
      "_view_count": null,
      "_view_module": "@jupyter-widgets/base",
      "_view_module_version": "1.2.0",
      "_view_name": "StyleView",
      "bar_color": null,
      "description_width": ""
     }
    },
    "b37a02848b4d46d3ab46a0eef34706e3": {
     "model_module": "@jupyter-widgets/base",
     "model_module_version": "1.2.0",
     "model_name": "LayoutModel",
     "state": {
      "_model_module": "@jupyter-widgets/base",
      "_model_module_version": "1.2.0",
      "_model_name": "LayoutModel",
      "_view_count": null,
      "_view_module": "@jupyter-widgets/base",
      "_view_module_version": "1.2.0",
      "_view_name": "LayoutView",
      "align_content": null,
      "align_items": null,
      "align_self": null,
      "border": null,
      "bottom": null,
      "display": null,
      "flex": null,
      "flex_flow": null,
      "grid_area": null,
      "grid_auto_columns": null,
      "grid_auto_flow": null,
      "grid_auto_rows": null,
      "grid_column": null,
      "grid_gap": null,
      "grid_row": null,
      "grid_template_areas": null,
      "grid_template_columns": null,
      "grid_template_rows": null,
      "height": null,
      "justify_content": null,
      "justify_items": null,
      "left": null,
      "margin": null,
      "max_height": null,
      "max_width": null,
      "min_height": null,
      "min_width": null,
      "object_fit": null,
      "object_position": null,
      "order": null,
      "overflow": null,
      "overflow_x": null,
      "overflow_y": null,
      "padding": null,
      "right": null,
      "top": null,
      "visibility": null,
      "width": null
     }
    },
    "c30652d4f0404abfbbedf977758a2238": {
     "model_module": "@jupyter-widgets/base",
     "model_module_version": "1.2.0",
     "model_name": "LayoutModel",
     "state": {
      "_model_module": "@jupyter-widgets/base",
      "_model_module_version": "1.2.0",
      "_model_name": "LayoutModel",
      "_view_count": null,
      "_view_module": "@jupyter-widgets/base",
      "_view_module_version": "1.2.0",
      "_view_name": "LayoutView",
      "align_content": null,
      "align_items": null,
      "align_self": null,
      "border": null,
      "bottom": null,
      "display": null,
      "flex": null,
      "flex_flow": null,
      "grid_area": null,
      "grid_auto_columns": null,
      "grid_auto_flow": null,
      "grid_auto_rows": null,
      "grid_column": null,
      "grid_gap": null,
      "grid_row": null,
      "grid_template_areas": null,
      "grid_template_columns": null,
      "grid_template_rows": null,
      "height": null,
      "justify_content": null,
      "justify_items": null,
      "left": null,
      "margin": null,
      "max_height": null,
      "max_width": null,
      "min_height": null,
      "min_width": null,
      "object_fit": null,
      "object_position": null,
      "order": null,
      "overflow": null,
      "overflow_x": null,
      "overflow_y": null,
      "padding": null,
      "right": null,
      "top": null,
      "visibility": null,
      "width": null
     }
    },
    "c38b5e7f053f41198091b07bd8786eac": {
     "model_module": "@jupyter-widgets/controls",
     "model_module_version": "1.5.0",
     "model_name": "HBoxModel",
     "state": {
      "_dom_classes": [],
      "_model_module": "@jupyter-widgets/controls",
      "_model_module_version": "1.5.0",
      "_model_name": "HBoxModel",
      "_view_count": null,
      "_view_module": "@jupyter-widgets/controls",
      "_view_module_version": "1.5.0",
      "_view_name": "HBoxView",
      "box_style": "",
      "children": [
       "IPY_MODEL_e22d58ae29734418a0dd6a3432402624",
       "IPY_MODEL_19b007c6bea3403697e05bbe1b3c22ff",
       "IPY_MODEL_ea8c030ebb1149348894dca961037a4d"
      ],
      "layout": "IPY_MODEL_60efb7babc664eb88487b236aa588a28"
     }
    },
    "c75d015eb50a4bcdb649aa6a2c104677": {
     "model_module": "@jupyter-widgets/controls",
     "model_module_version": "1.5.0",
     "model_name": "DescriptionStyleModel",
     "state": {
      "_model_module": "@jupyter-widgets/controls",
      "_model_module_version": "1.5.0",
      "_model_name": "DescriptionStyleModel",
      "_view_count": null,
      "_view_module": "@jupyter-widgets/base",
      "_view_module_version": "1.2.0",
      "_view_name": "StyleView",
      "description_width": ""
     }
    },
    "d135fbc4897a4ceb92c67d133df0d74f": {
     "model_module": "@jupyter-widgets/controls",
     "model_module_version": "1.5.0",
     "model_name": "HTMLModel",
     "state": {
      "_dom_classes": [],
      "_model_module": "@jupyter-widgets/controls",
      "_model_module_version": "1.5.0",
      "_model_name": "HTMLModel",
      "_view_count": null,
      "_view_module": "@jupyter-widgets/controls",
      "_view_module_version": "1.5.0",
      "_view_name": "HTMLView",
      "description": "",
      "description_tooltip": null,
      "layout": "IPY_MODEL_fcd3e89fef93452294183cae4ebd9f29",
      "placeholder": "​",
      "style": "IPY_MODEL_fdd81fe53fce45e19fb14619db81066b",
      "value": " 5120/? [00:00&lt;00:00, 145601.98it/s]"
     }
    },
    "e22d58ae29734418a0dd6a3432402624": {
     "model_module": "@jupyter-widgets/controls",
     "model_module_version": "1.5.0",
     "model_name": "HTMLModel",
     "state": {
      "_dom_classes": [],
      "_model_module": "@jupyter-widgets/controls",
      "_model_module_version": "1.5.0",
      "_model_name": "HTMLModel",
      "_view_count": null,
      "_view_module": "@jupyter-widgets/controls",
      "_view_module_version": "1.5.0",
      "_view_name": "HTMLView",
      "description": "",
      "description_tooltip": null,
      "layout": "IPY_MODEL_836a22c7efee46b0a81f8ed88ec6b778",
      "placeholder": "​",
      "style": "IPY_MODEL_ee7a0682662045b98db138bdbede1ec3",
      "value": ""
     }
    },
    "e85e648ca6d74edca13881ad0b5e7837": {
     "model_module": "@jupyter-widgets/base",
     "model_module_version": "1.2.0",
     "model_name": "LayoutModel",
     "state": {
      "_model_module": "@jupyter-widgets/base",
      "_model_module_version": "1.2.0",
      "_model_name": "LayoutModel",
      "_view_count": null,
      "_view_module": "@jupyter-widgets/base",
      "_view_module_version": "1.2.0",
      "_view_name": "LayoutView",
      "align_content": null,
      "align_items": null,
      "align_self": null,
      "border": null,
      "bottom": null,
      "display": null,
      "flex": null,
      "flex_flow": null,
      "grid_area": null,
      "grid_auto_columns": null,
      "grid_auto_flow": null,
      "grid_auto_rows": null,
      "grid_column": null,
      "grid_gap": null,
      "grid_row": null,
      "grid_template_areas": null,
      "grid_template_columns": null,
      "grid_template_rows": null,
      "height": null,
      "justify_content": null,
      "justify_items": null,
      "left": null,
      "margin": null,
      "max_height": null,
      "max_width": null,
      "min_height": null,
      "min_width": null,
      "object_fit": null,
      "object_position": null,
      "order": null,
      "overflow": null,
      "overflow_x": null,
      "overflow_y": null,
      "padding": null,
      "right": null,
      "top": null,
      "visibility": null,
      "width": null
     }
    },
    "ea8c030ebb1149348894dca961037a4d": {
     "model_module": "@jupyter-widgets/controls",
     "model_module_version": "1.5.0",
     "model_name": "HTMLModel",
     "state": {
      "_dom_classes": [],
      "_model_module": "@jupyter-widgets/controls",
      "_model_module_version": "1.5.0",
      "_model_name": "HTMLModel",
      "_view_count": null,
      "_view_module": "@jupyter-widgets/controls",
      "_view_module_version": "1.5.0",
      "_view_name": "HTMLView",
      "description": "",
      "description_tooltip": null,
      "layout": "IPY_MODEL_2855949b14f847e3a124ff86994320ba",
      "placeholder": "​",
      "style": "IPY_MODEL_a08213328efa4b9b8948e1ed747dacd6",
      "value": " 1649664/? [00:00&lt;00:00, 17739289.97it/s]"
     }
    },
    "ee7a0682662045b98db138bdbede1ec3": {
     "model_module": "@jupyter-widgets/controls",
     "model_module_version": "1.5.0",
     "model_name": "DescriptionStyleModel",
     "state": {
      "_model_module": "@jupyter-widgets/controls",
      "_model_module_version": "1.5.0",
      "_model_name": "DescriptionStyleModel",
      "_view_count": null,
      "_view_module": "@jupyter-widgets/base",
      "_view_module_version": "1.2.0",
      "_view_name": "StyleView",
      "description_width": ""
     }
    },
    "fcd3e89fef93452294183cae4ebd9f29": {
     "model_module": "@jupyter-widgets/base",
     "model_module_version": "1.2.0",
     "model_name": "LayoutModel",
     "state": {
      "_model_module": "@jupyter-widgets/base",
      "_model_module_version": "1.2.0",
      "_model_name": "LayoutModel",
      "_view_count": null,
      "_view_module": "@jupyter-widgets/base",
      "_view_module_version": "1.2.0",
      "_view_name": "LayoutView",
      "align_content": null,
      "align_items": null,
      "align_self": null,
      "border": null,
      "bottom": null,
      "display": null,
      "flex": null,
      "flex_flow": null,
      "grid_area": null,
      "grid_auto_columns": null,
      "grid_auto_flow": null,
      "grid_auto_rows": null,
      "grid_column": null,
      "grid_gap": null,
      "grid_row": null,
      "grid_template_areas": null,
      "grid_template_columns": null,
      "grid_template_rows": null,
      "height": null,
      "justify_content": null,
      "justify_items": null,
      "left": null,
      "margin": null,
      "max_height": null,
      "max_width": null,
      "min_height": null,
      "min_width": null,
      "object_fit": null,
      "object_position": null,
      "order": null,
      "overflow": null,
      "overflow_x": null,
      "overflow_y": null,
      "padding": null,
      "right": null,
      "top": null,
      "visibility": null,
      "width": null
     }
    },
    "fdd81fe53fce45e19fb14619db81066b": {
     "model_module": "@jupyter-widgets/controls",
     "model_module_version": "1.5.0",
     "model_name": "DescriptionStyleModel",
     "state": {
      "_model_module": "@jupyter-widgets/controls",
      "_model_module_version": "1.5.0",
      "_model_name": "DescriptionStyleModel",
      "_view_count": null,
      "_view_module": "@jupyter-widgets/base",
      "_view_module_version": "1.2.0",
      "_view_name": "StyleView",
      "description_width": ""
     }
    },
    "fe1fde19bbdc43c6a81779c184d26a6f": {
     "model_module": "@jupyter-widgets/controls",
     "model_module_version": "1.5.0",
     "model_name": "HBoxModel",
     "state": {
      "_dom_classes": [],
      "_model_module": "@jupyter-widgets/controls",
      "_model_module_version": "1.5.0",
      "_model_name": "HBoxModel",
      "_view_count": null,
      "_view_module": "@jupyter-widgets/controls",
      "_view_module_version": "1.5.0",
      "_view_name": "HBoxView",
      "box_style": "",
      "children": [
       "IPY_MODEL_a9ac76225b8d4f509a7162603a69ed3c",
       "IPY_MODEL_ad74aae1877544628416b402bf9b0857",
       "IPY_MODEL_d135fbc4897a4ceb92c67d133df0d74f"
      ],
      "layout": "IPY_MODEL_c30652d4f0404abfbbedf977758a2238"
     }
    },
    "fe988e0cb73644ac882aa8c297dab5a7": {
     "model_module": "@jupyter-widgets/controls",
     "model_module_version": "1.5.0",
     "model_name": "HBoxModel",
     "state": {
      "_dom_classes": [],
      "_model_module": "@jupyter-widgets/controls",
      "_model_module_version": "1.5.0",
      "_model_name": "HBoxModel",
      "_view_count": null,
      "_view_module": "@jupyter-widgets/controls",
      "_view_module_version": "1.5.0",
      "_view_name": "HBoxView",
      "box_style": "",
      "children": [
       "IPY_MODEL_01746fffb7ea4d2b820328d367fa3689",
       "IPY_MODEL_9ee75dc2a9dd4997b79803d7dbb9225d",
       "IPY_MODEL_7e1f723c045148ebb5f233a8c4549aea"
      ],
      "layout": "IPY_MODEL_3517c62afbfe4174b0aeb12de2c6b5ab"
     }
    }
   }
  }
 },
 "nbformat": 4,
 "nbformat_minor": 1
}
